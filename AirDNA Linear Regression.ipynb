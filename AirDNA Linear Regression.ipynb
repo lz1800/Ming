{
 "cells": [
  {
   "cell_type": "markdown",
   "metadata": {},
   "source": [
    "# Short-term vacation rental with Machine Learning\n",
    "- March 3rd, 2020"
   ]
  },
  {
   "cell_type": "markdown",
   "metadata": {},
   "source": [
    "## Import required modules and load data file"
   ]
  },
  {
   "cell_type": "code",
   "execution_count": 1,
   "metadata": {},
   "outputs": [],
   "source": [
    "# %matplotlib notebook\n",
    "import numpy as np\n",
    "import matplotlib.pyplot as plt\n",
    "import pandas as pd\n",
    "import seaborn as sn; sn.set(color_codes=True)\n",
    "from sklearn.model_selection import train_test_split\n",
    "\n",
    "import os, sys\n",
    "from os import listdir\n",
    "from os.path import isfile, join"
   ]
  },
  {
   "cell_type": "code",
   "execution_count": 2,
   "metadata": {},
   "outputs": [
    {
     "data": {
      "text/plain": [
       "'/Users/lilming/Desktop/DataMimo/airdna/project3/2020-02-27 BigBearLake_filled.csv'"
      ]
     },
     "execution_count": 2,
     "metadata": {},
     "output_type": "execute_result"
    }
   ],
   "source": [
    "fn = '2020-02-27 BigBearLake'\n",
    "#fn = '2020-02-20_HalfMoonBay'\n",
    "#fn='2020-02-27 Fairfield'\n",
    "#fn = '2020_03_02_Vallejo'\n",
    "#fn = '2020_03_02_AmericanCanyon'\n",
    "#fn = '2020-02-27 Kissimmee'\n",
    "\n",
    "finished_path = os.getcwd()\n",
    "fullname = join(finished_path, fn + '_filled.csv')\n",
    "fullname"
   ]
  },
  {
   "cell_type": "code",
   "execution_count": 3,
   "metadata": {},
   "outputs": [
    {
     "data": {
      "text/plain": [
       "Index(['Unnamed: 0', 'Multiple', 'Revenue', 'Daily Rate', 'Occupancy',\n",
       "       'PROPERTY TYPE', 'ADDRESS', 'CITY', 'STATE OR PROVINCE',\n",
       "       'ZIP OR POSTAL CODE', 'PRICE', 'BEDS', 'BATHS', 'LOCATION',\n",
       "       'SQUARE FEET', 'LOT SIZE', 'YEAR BUILT', '$/SQUARE FEET', 'HOA/MONTH',\n",
       "       'LATITUDE', 'LONGITUDE'],\n",
       "      dtype='object')"
      ]
     },
     "execution_count": 3,
     "metadata": {},
     "output_type": "execute_result"
    }
   ],
   "source": [
    "df = pd.read_csv(fullname)\n",
    "df['HOA/MONTH']=df['HOA/MONTH'].fillna(0)\n",
    "df['CITY']=df['CITY'].str.upper()\n",
    "df['LOCATION']=df['LOCATION'].str.upper()\n",
    "df.columns"
   ]
  },
  {
   "cell_type": "code",
   "execution_count": 4,
   "metadata": {},
   "outputs": [
    {
     "name": "stdout",
     "output_type": "stream",
     "text": [
      "df shape:  (157, 18)\n"
     ]
    },
    {
     "data": {
      "text/plain": [
       "Index(['Multiple', 'Revenue', 'Daily Rate', 'Occupancy', 'PROPERTY TYPE',\n",
       "       'CITY', 'STATE OR PROVINCE', 'PRICE', 'ZIP OR POSTAL CODE', 'BEDS',\n",
       "       'BATHS', 'LOCATION', 'SQUARE FEET', 'LOT SIZE', 'YEAR BUILT',\n",
       "       'HOA/MONTH', 'LATITUDE', 'LONGITUDE'],\n",
       "      dtype='object')"
      ]
     },
     "execution_count": 4,
     "metadata": {},
     "output_type": "execute_result"
    }
   ],
   "source": [
    "#select only the useful columns\n",
    "columns_to_keep = ['Multiple',\n",
    "                   'Revenue',\n",
    "                   'Daily Rate',\n",
    "                   'Occupancy',\n",
    "                   'PROPERTY TYPE',\n",
    "                   'CITY',\n",
    "                   'STATE OR PROVINCE',\n",
    "                   'PRICE',\n",
    "                   'ZIP OR POSTAL CODE',\n",
    "                   'BEDS',\n",
    "                   'BATHS',\n",
    "                   'LOCATION',\n",
    "                   'SQUARE FEET',\n",
    "                   'LOT SIZE',\n",
    "                   'YEAR BUILT',\n",
    "                   'HOA/MONTH',\n",
    "                   'LATITUDE',\n",
    "                   'LONGITUDE']\n",
    "feature_columns = ['Occupancy',\n",
    "                   'PRICE',\n",
    "                   'ZIP OR POSTAL CODE',\n",
    "                   'BEDS',\n",
    "                   'BATHS',\n",
    "                   'SQUARE FEET',\n",
    "                   'LOT SIZE',\n",
    "                   'YEAR BUILT',\n",
    "                   'HOA/MONTH',\n",
    "                   'LATITUDE',\n",
    "                   'LONGITUDE']\n",
    "df = df[columns_to_keep]\n",
    "print('df shape: ', df.shape)\n",
    "#check if the df colums are correct\n",
    "df.columns"
   ]
  },
  {
   "cell_type": "code",
   "execution_count": 5,
   "metadata": {
    "scrolled": true
   },
   "outputs": [
    {
     "name": "stdout",
     "output_type": "stream",
     "text": [
      "      Multiple  Revenue  Daily Rate  Occupancy              PROPERTY TYPE  \\\n",
      "0    12.425971  27354.0       212.0       0.35  Single Family Residential   \n",
      "1    19.786609  30273.0       221.0       0.38  Single Family Residential   \n",
      "2     9.537804  26201.0       213.0       0.34  Single Family Residential   \n",
      "3     8.478325  33910.0       198.0       0.47  Single Family Residential   \n",
      "4    32.581908  27592.0       218.0       0.35  Single Family Residential   \n",
      "..         ...      ...         ...        ...                        ...   \n",
      "152  88.710782  29196.0       190.0       0.42  Single Family Residential   \n",
      "153  24.601289  29470.0       224.0       0.36  Single Family Residential   \n",
      "154  93.604772  28834.0       225.0       0.35  Single Family Residential   \n",
      "155  16.603447  30054.0       223.0       0.37  Single Family Residential   \n",
      "156   9.542528  35106.0       228.0       0.42  Single Family Residential   \n",
      "\n",
      "              CITY STATE OR PROVINCE    PRICE  ZIP OR POSTAL CODE  BEDS  \\\n",
      "0    BIG BEAR LAKE                CA   339900               92315     2   \n",
      "1         BIG BEAR                CA   599000               92315     5   \n",
      "2         BIG BEAR                CA   249900               92315     1   \n",
      "3         BIG BEAR                CA   287500               92315     2   \n",
      "4         BIG BEAR                CA   899000               92315     4   \n",
      "..             ...               ...      ...                 ...   ...   \n",
      "152       BIG BEAR                CA  2590000               92315     2   \n",
      "153       BIG BEAR                CA   725000               92315     2   \n",
      "154       BIG BEAR                CA  2699000               92315     6   \n",
      "155       BIG BEAR                CA   499000               92315     4   \n",
      "156       BIG BEAR                CA   335000               92315     2   \n",
      "\n",
      "     BATHS             LOCATION  SQUARE FEET  LOT SIZE  YEAR BUILT  HOA/MONTH  \\\n",
      "0     2.00       NOT APPLICABLE         1015    2500.0        2019        0.0   \n",
      "1     4.00  289 - BIG BEAR AREA         2264    7752.0        2007        0.0   \n",
      "2     1.00     MOON - MOONRIDGE          480    5100.0        1962        0.0   \n",
      "3     2.00  289 - BIG BEAR AREA          972    4000.0        1995        0.0   \n",
      "4     4.00     MOON - MOONRIDGE         3816   17995.0        2019        0.0   \n",
      "..     ...                  ...          ...       ...         ...        ...   \n",
      "152   1.00  289 - BIG BEAR AREA          904   62400.0        1926        0.0   \n",
      "153   1.50  289 - BIG BEAR AREA          936   62726.0        2004        0.0   \n",
      "154   6.00  289 - BIG BEAR AREA         4215    8174.0        1990        0.0   \n",
      "155   3.00  289 - BIG BEAR AREA         1712   11776.0        2018        0.0   \n",
      "156   1.75     MOON - MOONRIDGE          960    5500.0        1958        0.0   \n",
      "\n",
      "      LATITUDE   LONGITUDE  \n",
      "0    34.237012 -116.871716  \n",
      "1    34.237870 -116.861563  \n",
      "2    34.239884 -116.865152  \n",
      "3    34.244930 -116.927218  \n",
      "4    34.229855 -116.863012  \n",
      "..         ...         ...  \n",
      "152  34.253713 -116.904388  \n",
      "153  34.236080 -116.878726  \n",
      "154  34.250746 -116.942364  \n",
      "155  34.238915 -116.931036  \n",
      "156  34.239294 -116.862368  \n",
      "\n",
      "[157 rows x 18 columns]\n"
     ]
    }
   ],
   "source": [
    "#drop the NAN rows\n",
    "#SF stands for single family residential\n",
    "sF=df.dropna()\n",
    "sF.shape\n",
    "print(sF)"
   ]
  },
  {
   "cell_type": "markdown",
   "metadata": {},
   "source": [
    "### 2.1 dummy linnear regression to check\n",
    "\n",
    "**data.info()**: we have\n",
    "\n",
    "The training score is 0.963 and the test score is 0.826. Not bad. \n",
    "Let's continue and figure out what we can do to improve\n",
    "<img src=\"images/dummyLinRegression.png\">"
   ]
  },
  {
   "cell_type": "code",
   "execution_count": 6,
   "metadata": {},
   "outputs": [
    {
     "name": "stdout",
     "output_type": "stream",
     "text": [
      "R-squared score (training): 0.989\n",
      "R-squared score (test): 0.996\n"
     ]
    }
   ],
   "source": [
    "from sklearn.linear_model import LinearRegression\n",
    "\n",
    "## INPUT YOUR CODES HERE\n",
    "X = sF[feature_columns]\n",
    "X = pd.get_dummies(X)\n",
    "#y = sF['Daily Rate']\n",
    "y = sF['Multiple']\n",
    "X_train, X_test, y_train, y_test = train_test_split(X, y, test_size=0.2,random_state =4)\n",
    "\n",
    "model = LinearRegression()\n",
    "fit=model.fit(X_train,y_train)\n",
    "## END OF YOUR CODES\n",
    "\n",
    "print('R-squared score (training): {:.3f}'.format(fit.score(X_train, y_train)))\n",
    "print('R-squared score (test): {:.3f}'.format(fit.score(X_test, y_test)))\n"
   ]
  },
  {
   "cell_type": "markdown",
   "metadata": {},
   "source": [
    "# Machine learning flowchart"
   ]
  },
  {
   "cell_type": "markdown",
   "metadata": {},
   "source": [
    "## 4.1 Linear Regression:\n",
    "- First Create train-test split\n"
   ]
  },
  {
   "cell_type": "code",
   "execution_count": 82,
   "metadata": {},
   "outputs": [
    {
     "name": "stdout",
     "output_type": "stream",
     "text": [
      "     Occupancy    PRICE  ZIP OR POSTAL CODE  BEDS  BATHS  SQUARE FEET  \\\n",
      "0         0.35   339900               92315     2   2.00         1015   \n",
      "1         0.38   599000               92315     5   4.00         2264   \n",
      "2         0.34   249900               92315     1   1.00          480   \n",
      "3         0.47   287500               92315     2   2.00          972   \n",
      "4         0.35   899000               92315     4   4.00         3816   \n",
      "..         ...      ...                 ...   ...    ...          ...   \n",
      "152       0.42  2590000               92315     2   1.00          904   \n",
      "153       0.36   725000               92315     2   1.50          936   \n",
      "154       0.35  2699000               92315     6   6.00         4215   \n",
      "155       0.37   499000               92315     4   3.00         1712   \n",
      "156       0.42   335000               92315     2   1.75          960   \n",
      "\n",
      "     LOT SIZE  YEAR BUILT  HOA/MONTH   LATITUDE   LONGITUDE  \n",
      "0      2500.0        2019        0.0  34.237012 -116.871716  \n",
      "1      7752.0        2007        0.0  34.237870 -116.861563  \n",
      "2      5100.0        1962        0.0  34.239884 -116.865152  \n",
      "3      4000.0        1995        0.0  34.244930 -116.927218  \n",
      "4     17995.0        2019        0.0  34.229855 -116.863012  \n",
      "..        ...         ...        ...        ...         ...  \n",
      "152   62400.0        1926        0.0  34.253713 -116.904388  \n",
      "153   62726.0        2004        0.0  34.236080 -116.878726  \n",
      "154    8174.0        1990        0.0  34.250746 -116.942364  \n",
      "155   11776.0        2018        0.0  34.238915 -116.931036  \n",
      "156    5500.0        1958        0.0  34.239294 -116.862368  \n",
      "\n",
      "[157 rows x 11 columns]\n"
     ]
    }
   ],
   "source": [
    "print(sF)"
   ]
  },
  {
   "cell_type": "code",
   "execution_count": 40,
   "metadata": {},
   "outputs": [
    {
     "name": "stdout",
     "output_type": "stream",
     "text": [
      "linear model coeff (w): [ 2.23847222e-10  1.00000000e+00  2.11194991e-11 -5.45080631e-11\n",
      " -2.94476315e-14  4.72672426e-16  3.12601449e-13  1.05217623e-14\n",
      " -8.60999945e-10 -5.76997641e-11]\n",
      "linear model intercept (b): 0.000\n",
      "R-squared score (training): 1.000\n",
      "R-squared score (test): 1.000\n"
     ]
    }
   ],
   "source": [
    "from sklearn.linear_model import LinearRegression\n",
    "\n",
    "## Input your codes here\n",
    "### train_test_split\n",
    "\n",
    "X = sF[feature_columns]\n",
    "y = sF['PRICE']\n",
    "X_train, X_test, y_train, y_test = train_test_split(X, y, test_size=0.2,random_state =4)\n",
    "linreg = LinearRegression()\n",
    "linreg.fit(X_train,y_train)\n",
    "### LinearRegression\n",
    "\n",
    "## end of your codes\n",
    "\n",
    "print('linear model coeff (w): {}'\n",
    "     .format(linreg.coef_))\n",
    "print('linear model intercept (b): {:.3f}'\n",
    "     .format(linreg.intercept_))\n",
    "print('R-squared score (training): {:.3f}'\n",
    "     .format(linreg.score(X_train, y_train)))\n",
    "print('R-squared score (test): {:.3f}'\n",
    "     .format(linreg.score(X_test, y_test)))"
   ]
  },
  {
   "cell_type": "markdown",
   "metadata": {},
   "source": [
    "## 4.2 Lasso (Least Absolute Shrinkage and Selection Operator)\n",
    "\n",
    "$${\\displaystyle \\min _{\\beta}\\left\\{{\\frac {1}{N}}\\left\\|y-X\\beta \\right\\|_{2}^{2}+\\alpha \\|\\beta \\|_{1}\\right\\}}$$\n"
   ]
  },
  {
   "cell_type": "code",
   "execution_count": 43,
   "metadata": {},
   "outputs": [
    {
     "data": {
      "text/plain": [
       "Lasso(alpha=0.001, copy_X=True, fit_intercept=True, max_iter=1000,\n",
       "      normalize=False, positive=False, precompute=False, random_state=None,\n",
       "      selection='cyclic', tol=0.0001, warm_start=False)"
      ]
     },
     "execution_count": 43,
     "metadata": {},
     "output_type": "execute_result"
    }
   ],
   "source": [
    "from sklearn.linear_model import Lasso\n",
    "## Input your codes here\n",
    "### train_test_split\n",
    "X_train, X_test, y_train, y_test = train_test_split(X, y, test_size=0.2,random_state =4)\n",
    "L1_penalty = 0.001\n",
    "Lasso1 = Lasso(alpha=L1_penalty)\n",
    "Lasso1.fit(X_train,y_train)\n",
    "### LinearRegression\n",
    "\n",
    "## end of your codes"
   ]
  },
  {
   "cell_type": "code",
   "execution_count": 44,
   "metadata": {},
   "outputs": [
    {
     "name": "stdout",
     "output_type": "stream",
     "text": [
      "# iterations: 49\n",
      "Self score: 1.00\n",
      "\n"
     ]
    },
    {
     "data": {
      "image/png": "[encoded data removed]",
      "text/plain": [
       "<Figure size 432x288 with 1 Axes>"
      ]
     },
     "metadata": {
      "needs_background": "light"
     },
     "output_type": "display_data"
    }
   ],
   "source": [
    "print('# iterations: %d' % Lasso1.n_iter_)\n",
    "print('Self score: {:.2f}\\n'\n",
    "      .format(Lasso1.score(X, y)))\n",
    "plt.figure()\n",
    "plt.bar(range(X.columns.size), Lasso1.coef_)\n",
    "plt.xlabel('measurement index')\n",
    "plt.ylabel('coefficient');"
   ]
  },
  {
   "cell_type": "markdown",
   "metadata": {},
   "source": [
    "### 4.2.1 Lasso with scaling the data\n",
    "- It takes only 9 iterations after standardization\n",
    "- Scaled the data will take care of some converging issues also\n"
   ]
  },
  {
   "cell_type": "code",
   "execution_count": 45,
   "metadata": {},
   "outputs": [
    {
     "data": {
      "text/plain": [
       "Lasso(alpha=0.001, copy_X=True, fit_intercept=True, max_iter=1000,\n",
       "      normalize=False, positive=False, precompute=False, random_state=None,\n",
       "      selection='cyclic', tol=0.0001, warm_start=False)"
      ]
     },
     "execution_count": 45,
     "metadata": {},
     "output_type": "execute_result"
    }
   ],
   "source": [
    "# Some data may have converge problem\n",
    "# Try scaling the data\n",
    "from sklearn.preprocessing import StandardScaler\n",
    "X_norm = StandardScaler().fit_transform(X)\n",
    "\n",
    "X1_train, X1_test, y1_train, y1_test = train_test_split(X_norm, y, test_size=0.2,random_state =4)\n",
    "L2_penalty = 0.001\n",
    "Lasso2 = Lasso(alpha=L2_penalty)\n",
    "Lasso2.fit(X1_train,y1_train)\n",
    "\n",
    "\n",
    "### train_test_split\n",
    "### LinearRegression\n",
    "\n",
    "## end of your codes"
   ]
  },
  {
   "cell_type": "code",
   "execution_count": 46,
   "metadata": {},
   "outputs": [
    {
     "name": "stdout",
     "output_type": "stream",
     "text": [
      "# iterations: 9\n",
      "Self score: 1.00\n",
      "\n"
     ]
    },
    {
     "data": {
      "image/png": "[encoded data removed]",
      "text/plain": [
       "<Figure size 432x288 with 1 Axes>"
      ]
     },
     "metadata": {
      "needs_background": "light"
     },
     "output_type": "display_data"
    }
   ],
   "source": [
    "print('# iterations: %d' % Lasso2.n_iter_)\n",
    "print('Self score: {:.2f}\\n'\n",
    "      .format(Lasso2.score(X_norm, y)))\n",
    "plt.figure()\n",
    "plt.bar(range(X.columns.size), Lasso2.coef_)\n",
    "plt.xlabel('measurement index')\n",
    "plt.ylabel('coefficient');"
   ]
  },
  {
   "cell_type": "markdown",
   "metadata": {},
   "source": [
    "### 4.2.2 Lasso: What the more relevant measurement from this model\n",
    "\n",
    "<img src=\"images/lassoMostRelevant.jpg\">"
   ]
  },
  {
   "cell_type": "code",
   "execution_count": 50,
   "metadata": {
    "scrolled": true
   },
   "outputs": [
    {
     "data": {
      "text/plain": [
       "PRICE                      5.962987\n",
       "LONGITUDE                  0.603490\n",
       "HOA/MONTH                  0.555527\n",
       "BEDS                       0.473347\n",
       "Occupancy                  0.469171\n",
       "LOCATION_GREEN VALLEY 2    0.412284\n",
       "LOCATION_FAIRFIELD 3       0.408649\n",
       "LOCATION_CORDELIA          0.165995\n",
       "LOCATION_FAIRFIELD 7       0.085565\n",
       "LOCATION_FAIRFIELD 6       0.064376\n",
       "YEAR BUILT                 0.048487\n",
       "LOCATION_GREEN VALLEY 1    0.033410\n",
       "LOCATION_FAIRFIELD 4       0.028424\n",
       "LOCATION_FAIRFIELD 2       0.026687\n",
       "ZIP OR POSTAL CODE         0.000000\n",
       "dtype: float64"
      ]
     },
     "execution_count": 50,
     "metadata": {},
     "output_type": "execute_result"
    }
   ],
   "source": [
    "## Input your codes here\n",
    "\n",
    "coeffs = pd.Series(Lasso2.coef_, X.columns)\n",
    "sorted_coeffs = coeffs.abs().sort_values(ascending=False)\n",
    "sorted_coeffs.head(15)\n",
    "## end of your codes"
   ]
  },
  {
   "cell_type": "markdown",
   "metadata": {},
   "source": [
    "## LEARNING CURVE"
   ]
  },
  {
   "cell_type": "markdown",
   "metadata": {},
   "source": [
    "##### Learning Curve can help us to identify whether our model is underfitting or overfitting"
   ]
  },
  {
   "cell_type": "code",
   "execution_count": 23,
   "metadata": {},
   "outputs": [],
   "source": [
    "import numpy as np\n",
    "import matplotlib.pyplot as plt\n",
    "from sklearn.model_selection import train_test_split\n",
    "\n",
    "feature_columns = ['Occupancy',\n",
    "                   'PRICE',\n",
    "                   'BEDS',\n",
    "                   'BATHS',\n",
    "                   'SQUARE FEET',\n",
    "                   'LOT SIZE',\n",
    "                   'YEAR BUILT',\n",
    "                   'HOA/MONTH',\n",
    "                   'LATITUDE',\n",
    "                   'LONGITUDE']\n",
    "df = df[feature_columns]\n",
    "sF = df.dropna()\n",
    "X = sF.drop(['PRICE'],axis =1)\n",
    "y = sF['PRICE']\n",
    "X_train, X_test, y_train, y_test = train_test_split(X, y, random_state=4)"
   ]
  },
  {
   "cell_type": "code",
   "execution_count": 30,
   "metadata": {},
   "outputs": [],
   "source": [
    "from sklearn.linear_model import LinearRegression\n",
    "from sklearn.metrics import mean_squared_error\n",
    "\n",
    "# store the train and test score\n",
    "train_score = []\n",
    "test_score = []\n",
    "for i in range(1, 158):\n",
    "    # Reassign a new LinearRegression model during each iteration\n",
    "    liner = LinearRegression()\n",
    "    # use the previous i elements to train\n",
    "    liner.fit(X_train[:i], y_train[:i])\n",
    "    # make prediction based on the training set\n",
    "    y_train_predict = liner.predict(X_train[:i])\n",
    "    # using mean_squared_error\n",
    "    train_score.append(mean_squared_error(y_train[:i], y_train_predict))\n",
    "    \n",
    "    # based on the test prediction\n",
    "    y_test_predict = liner.predict(X_test)\n",
    "    # MSE agagin\n",
    "    test_score.append(mean_squared_error(y_test, y_test_predict))"
   ]
  },
  {
   "cell_type": "code",
   "execution_count": 47,
   "metadata": {
    "scrolled": true
   },
   "outputs": [
    {
     "data": {
      "image/png": "[encoded data removed]",
      "text/plain": [
       "<Figure size 432x288 with 1 Axes>"
      ]
     },
     "metadata": {
      "needs_background": "light"
     },
     "output_type": "display_data"
    }
   ],
   "source": [
    "plt.plot([i for i in range(1, 158)],  np.sqrt(train_score), label=\"train\")\n",
    "plt.plot([i for i in range(1, 158)],  np.sqrt(test_score), label=\"test\")\n",
    "plt.legend()\n",
    "plt.show()"
   ]
  }
 ],
 "metadata": {
  "anaconda-cloud": {},
  "celltoolbar": "Raw Cell Format",
  "kernelspec": {
   "display_name": "Python 3",
   "language": "python",
   "name": "python3"
  },
  "language_info": {
   "codemirror_mode": {
    "name": "ipython",
    "version": 3
   },
   "file_extension": ".py",
   "mimetype": "text/x-python",
   "name": "python",
   "nbconvert_exporter": "python",
   "pygments_lexer": "ipython3",
   "version": "3.7.4"
  }
 },
 "nbformat": 4,
 "nbformat_minor": 1
}
